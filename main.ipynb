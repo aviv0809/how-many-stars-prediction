{
 "cells": [
  {
   "cell_type": "code",
   "execution_count": 4,
   "id": "001ad101",
   "metadata": {},
   "outputs": [
    {
     "name": "stdout",
     "output_type": "stream",
     "text": [
      "Collecting selenium\n",
      "  Using cached selenium-4.7.2-py3-none-any.whl (6.3 MB)\n",
      "Collecting trio-websocket~=0.9\n",
      "  Using cached trio_websocket-0.9.2-py3-none-any.whl (16 kB)\n",
      "Requirement already satisfied: urllib3[socks]~=1.26 in c:\\users\\imoe001\\anaconda3\\lib\\site-packages (from selenium) (1.26.11)\n",
      "Collecting trio~=0.17\n",
      "  Using cached trio-0.22.0-py3-none-any.whl (384 kB)\n",
      "Requirement already satisfied: certifi>=2021.10.8 in c:\\users\\imoe001\\anaconda3\\lib\\site-packages (from selenium) (2022.9.14)\n",
      "Requirement already satisfied: sniffio in c:\\users\\imoe001\\anaconda3\\lib\\site-packages (from trio~=0.17->selenium) (1.2.0)\n",
      "Requirement already satisfied: idna in c:\\users\\imoe001\\anaconda3\\lib\\site-packages (from trio~=0.17->selenium) (3.3)\n",
      "Requirement already satisfied: attrs>=19.2.0 in c:\\users\\imoe001\\anaconda3\\lib\\site-packages (from trio~=0.17->selenium) (21.4.0)\n",
      "Requirement already satisfied: sortedcontainers in c:\\users\\imoe001\\anaconda3\\lib\\site-packages (from trio~=0.17->selenium) (2.4.0)\n",
      "Requirement already satisfied: cffi>=1.14 in c:\\users\\imoe001\\anaconda3\\lib\\site-packages (from trio~=0.17->selenium) (1.15.1)\n",
      "Collecting async-generator>=1.9\n",
      "  Using cached async_generator-1.10-py3-none-any.whl (18 kB)\n",
      "Collecting outcome\n",
      "  Using cached outcome-1.2.0-py2.py3-none-any.whl (9.7 kB)\n",
      "Collecting exceptiongroup>=1.0.0rc9\n",
      "  Using cached exceptiongroup-1.0.4-py3-none-any.whl (14 kB)\n",
      "Collecting wsproto>=0.14\n",
      "  Using cached wsproto-1.2.0-py3-none-any.whl (24 kB)\n",
      "Requirement already satisfied: PySocks!=1.5.7,<2.0,>=1.5.6 in c:\\users\\imoe001\\anaconda3\\lib\\site-packages (from urllib3[socks]~=1.26->selenium) (1.7.1)\n",
      "Requirement already satisfied: pycparser in c:\\users\\imoe001\\anaconda3\\lib\\site-packages (from cffi>=1.14->trio~=0.17->selenium) (2.21)\n",
      "Collecting h11<1,>=0.9.0\n",
      "  Using cached h11-0.14.0-py3-none-any.whl (58 kB)\n",
      "Installing collected packages: outcome, h11, exceptiongroup, async-generator, wsproto, trio, trio-websocket, selenium\n",
      "Successfully installed async-generator-1.10 exceptiongroup-1.0.4 h11-0.14.0 outcome-1.2.0 selenium-4.7.2 trio-0.22.0 trio-websocket-0.9.2 wsproto-1.2.0\n",
      "Note: you may need to restart the kernel to use updated packages.\n"
     ]
    }
   ],
   "source": [
    "%pip install selenium"
   ]
  },
  {
   "cell_type": "markdown",
   "id": "3c307864",
   "metadata": {},
   "source": [
    "# WEB SCARPING\n"
   ]
  },
  {
   "cell_type": "markdown",
   "id": "bd5dcbec",
   "metadata": {},
   "source": [
    "the next lines of code are the way that i used web scraping with selenium to build a dataframe of comments of the empire state building on trip advisor"
   ]
  },
  {
   "cell_type": "code",
   "execution_count": 11,
   "id": "69750320",
   "metadata": {},
   "outputs": [
    {
     "name": "stderr",
     "output_type": "stream",
     "text": [
      "[nltk_data] Downloading package vader_lexicon to\n",
      "[nltk_data]     C:\\Users\\IMOE001\\AppData\\Roaming\\nltk_data...\n",
      "[nltk_data]   Package vader_lexicon is already up-to-date!\n"
     ]
    }
   ],
   "source": [
    "\n",
    "import pandas as pd\n",
    "from selenium import webdriver\n",
    "from time import sleep\n",
    "import nltk\n",
    "from nltk.sentiment.vader import SentimentIntensityAnalyzer\n",
    "nltk.download('vader_lexicon')\n",
    "# Initialize the sentiment analyzer\n",
    "analyzer = SentimentIntensityAnalyzer()\n",
    "\n",
    "url1=\"https://www.tripadvisor.com/Attraction_Review\"\n",
    "url2=\"-g60763-d104365-Reviews-Empire_State_Building-New_York_City_New_York.html\"\n",
    "\n",
    "stars=[]\n",
    "reviews_text=[]\n",
    "reviews_title=[]\n",
    "nlp_grade=[]\n",
    "\n",
    "def scraping(url):\n",
    "    driver = webdriver.Firefox()\n",
    "    avg_stars=-1\n",
    "    driver.get(url)\n",
    "    sleep(5)\n",
    "    #if you want to skip to the next page and not to open and close the driver you can use this\n",
    "    #button_next =  driver.find_elements(by='css selector', value='a.BrOJk.u.j.z._F.wSSLS.tIqAi.unMkR')\n",
    "    #if(len(button_next)==1):\n",
    "        #url=button_next[0].get_attribute('href')\n",
    "    #else:\n",
    "        #url=button_next[1].get_attribute('href')\n",
    "\n",
    "    #getting reviews titles and content\n",
    "    reviews_snippets = driver.find_elements(by='css selector', value=\"span[class=yCeTE]\")\n",
    "    stars_snippets = driver.find_elements(by='css selector', value='svg.UctUV.d.H0')\n",
    "\n",
    "\n",
    "    for snippet in stars_snippets:\n",
    "\n",
    "        if(snippet.get_attribute('aria-label')!=\"\"):\n",
    "            if (avg_stars == -1):\n",
    "                avg_stars = snippet.get_attribute('aria-label').split(' ')[0]\n",
    "            else:\n",
    "                # Extract the float number from the string\n",
    "                num = snippet.get_attribute('aria-label').split(' ')[0]\n",
    "                stars.append(num)\n",
    "\n",
    "    #switching between title and text:\n",
    "    flag=0\n",
    "\n",
    "\n",
    "    for i in reviews_snippets:\n",
    "        if(i.text!=\"\" and not \"Tickets from\" in i.text):\n",
    "            if(flag==0):\n",
    "                reviews_title.append(i.text)\n",
    "                flag=1\n",
    "            else:\n",
    "                reviews_text.append(i.text)\n",
    "                # Get the sentiment scores for the sentence\n",
    "                nlp_grade.append(analyzer.polarity_scores(i.text)['compound']*2+3)\n",
    "                flag = 0\n",
    "    driver.close()"
   ]
  },
  {
   "cell_type": "code",
   "execution_count": 12,
   "id": "9eda2c79",
   "metadata": {},
   "outputs": [],
   "source": [
    "scraping(f\"{url1}{url2}\")\n",
    "for i in range(1,1500):\n",
    "    try:\n",
    "        index = f\"-or{i}0\"\n",
    "        scraping(f\"{url1}{index}{url2}\")\n",
    "    except:\n",
    "        print(f\"missing page {i}\")"
   ]
  },
  {
   "cell_type": "code",
   "execution_count": 121,
   "id": "9c222dec",
   "metadata": {},
   "outputs": [],
   "source": [
    "import pandas as pd\n",
    "from selenium import webdriver\n",
    "from time import sleep\n",
    "import nltk\n",
    "from nltk.sentiment.vader import SentimentIntensityAnalyzer\n",
    "df = pd.read_csv('reviews.csv')"
   ]
  },
  {
   "cell_type": "markdown",
   "id": "cf5305e9",
   "metadata": {},
   "source": [
    "# saving the dataframe so we dont need to webscrap everytime we use this program"
   ]
  },
  {
   "cell_type": "code",
   "execution_count": null,
   "id": "49e3cfbf",
   "metadata": {
    "scrolled": false
   },
   "outputs": [],
   "source": [
    "\n",
    "df = pd.DataFrame({\"reviews-title\": reviews_title,\"reviews-text\":reviews_text, \"stars\": stars,\"nlp-grade\":nlp_grade})\n",
    "df.to_csv('reviews.csv')\n",
    "print(df)"
   ]
  },
  {
   "cell_type": "markdown",
   "id": "c029d8ff",
   "metadata": {},
   "source": [
    " "
   ]
  },
  {
   "cell_type": "markdown",
   "id": "a8b3fe18",
   "metadata": {},
   "source": [
    " "
   ]
  },
  {
   "cell_type": "markdown",
   "id": "76b26909",
   "metadata": {
    "scrolled": true
   },
   "source": [
    " "
   ]
  },
  {
   "cell_type": "markdown",
   "id": "260264ba",
   "metadata": {},
   "source": [
    "# ploting and deleting outliers"
   ]
  },
  {
   "cell_type": "markdown",
   "id": "d317f579",
   "metadata": {},
   "source": [
    "this next plot is the total nlp score for each star rate "
   ]
  },
  {
   "cell_type": "code",
   "execution_count": 122,
   "id": "ba218b41",
   "metadata": {},
   "outputs": [
    {
     "data": {
      "image/png": "[encoded data removed]",
      "text/plain": [
       "<Figure size 1000x500 with 1 Axes>"
      ]
     },
     "metadata": {},
     "output_type": "display_data"
    }
   ],
   "source": [
    "import seaborn as sns\n",
    "import matplotlib.pyplot as plt\n",
    "df = df.sort_values(by='stars', ascending=False)\n",
    "plt.figure(figsize=(10, 5))\n",
    "sns.violinplot(data=df, x=\"stars\", y=\"nlp-grade\")\n",
    "plt.show()"
   ]
  },
  {
   "cell_type": "markdown",
   "id": "75d30524",
   "metadata": {},
   "source": [
    "this next plot show that there is a connection between the stars grade and the nlp score"
   ]
  },
  {
   "cell_type": "code",
   "execution_count": 126,
   "id": "5b6a7514",
   "metadata": {},
   "outputs": [
    {
     "data": {
      "image/png": "[encoded data removed]",
      "text/plain": [
       "<Figure size 640x480 with 1 Axes>"
      ]
     },
     "metadata": {},
     "output_type": "display_data"
    }
   ],
   "source": [
    "sums=[0,0,0,0,0]\n",
    "counters = [0,0,0,0,0]\n",
    "avg=[0,0,0,0,0]\n",
    "for row in range(df.shape[0]):\n",
    "    sums[int(float(df['stars'][row]))-1]+=df['nlp-grade'][row]\n",
    "    counters[int(float(df['stars'][row]))-1]+=1\n",
    "for i in range(len(sums)):\n",
    "    avg[i]=sums[i]/counters[i]\n",
    "plt.plot([1,2,3,4,5],avg)\n",
    "plt.ylabel('nlp-grade')\n",
    "plt.xlabel('stars')\n",
    "plt.show()"
   ]
  },
  {
   "cell_type": "markdown",
   "id": "d978c0cb",
   "metadata": {},
   "source": [
    "# deleting outliers"
   ]
  },
  {
   "cell_type": "code",
   "execution_count": 117,
   "id": "d61defee",
   "metadata": {},
   "outputs": [],
   "source": [
    "import numpy as np\n",
    "df['stars']=df['stars'].astype(float)\n",
    "pd.options.mode.chained_assignment = None\n",
    "for i in range(1,6):\n",
    "    df1=df[df['stars'] == float(i)].copy()\n",
    "    numer = df1.select_dtypes(include = np.number)\n",
    "    for col in numer:\n",
    "        Q1 = np.percentile(df1[col],25)\n",
    "        Q3 = np.percentile(df1[col],75)\n",
    "        IQR=Q3-Q1\n",
    "        df1[''+col][(df[col]<Q1 - 2*IQR)| (df[col]>Q3 + 2*IQR)]=np.nan\n",
    "    if(i==1):\n",
    "        df2 = df1.copy()\n",
    "    else:\n",
    "        df2 = pd.concat([df1, df2], ignore_index=True)"
   ]
  },
  {
   "cell_type": "markdown",
   "id": "cc49f9ea",
   "metadata": {},
   "source": [
    "# checking for duplicates"
   ]
  },
  {
   "cell_type": "code",
   "execution_count": 108,
   "id": "690794cf",
   "metadata": {},
   "outputs": [
    {
     "name": "stdout",
     "output_type": "stream",
     "text": [
      "0\n"
     ]
    }
   ],
   "source": [
    "print(df.duplicated(keep='first').sum())"
   ]
  },
  {
   "cell_type": "code",
   "execution_count": 109,
   "id": "024ef386",
   "metadata": {},
   "outputs": [
    {
     "name": "stdout",
     "output_type": "stream",
     "text": [
      "0\n"
     ]
    }
   ],
   "source": [
    "if(df.duplicated(keep='first').sum()>=0):\n",
    "    df = df.drop_duplicates(keep='first').copy()\n",
    "print(df.duplicated(keep='first').sum())"
   ]
  },
  {
   "cell_type": "markdown",
   "id": "f601ed3d",
   "metadata": {},
   "source": [
    "# deleting nulls"
   ]
  },
  {
   "cell_type": "code",
   "execution_count": 110,
   "id": "e10684eb",
   "metadata": {},
   "outputs": [],
   "source": [
    "df2= df2.dropna(axis=0)\n",
    "df=df.dropna(axis=0)"
   ]
  },
  {
   "cell_type": "code",
   "execution_count": 115,
   "id": "3418049b",
   "metadata": {},
   "outputs": [
    {
     "data": {
      "image/png": "[encoded data removed]",
      "text/plain": [
       "<Figure size 1000x500 with 1 Axes>"
      ]
     },
     "metadata": {},
     "output_type": "display_data"
    }
   ],
   "source": [
    "df2 = df2.sort_values(by='stars', ascending=False)\n",
    "plt.figure(figsize=(10, 5))\n",
    "sns.violinplot(data=df2, x=\"stars\", y=\"nlp-grade\")\n",
    "plt.show()"
   ]
  },
  {
   "cell_type": "code",
   "execution_count": 125,
   "id": "8c71ac1e",
   "metadata": {},
   "outputs": [
    {
     "data": {
      "image/png": "[encoded data removed]",
      "text/plain": [
       "<Figure size 640x480 with 1 Axes>"
      ]
     },
     "metadata": {},
     "output_type": "display_data"
    }
   ],
   "source": [
    "sums=[0,0,0,0,0]\n",
    "counters = [0,0,0,0,0]\n",
    "avg=[0,0,0,0,0]\n",
    "for row in range(df2.shape[0]):\n",
    "    sums[int(float(df2['stars'][row]))-1]+=df2['nlp-grade'][row]\n",
    "    counters[int(float(df2['stars'][row]))-1]+=1\n",
    "for i in range(len(sums)):\n",
    "    avg[i]=sums[i]/counters[i]\n",
    "plt.plot([1,2,3,4,5],avg)\n",
    "plt.ylabel('nlp-grade')\n",
    "plt.xlabel('stars')\n",
    "plt.show()\n"
   ]
  },
  {
   "cell_type": "markdown",
   "id": "efcf9e5e",
   "metadata": {},
   "source": [
    "# regression"
   ]
  },
  {
   "cell_type": "markdown",
   "id": "8229c915",
   "metadata": {},
   "source": [
    "this next lines are the regression on the dataframe before deleting outliers"
   ]
  },
  {
   "cell_type": "code",
   "execution_count": 112,
   "id": "22371752",
   "metadata": {},
   "outputs": [
    {
     "name": "stdout",
     "output_type": "stream",
     "text": [
      "[0.5912112]\n",
      "1.9475192898443376\n"
     ]
    }
   ],
   "source": [
    "\n",
    "from sklearn.linear_model import LinearRegression\n",
    "from sklearn.model_selection import train_test_split\n",
    "\n",
    "\n",
    "y = df['stars']\n",
    "\n",
    "X = df[['nlp-grade']]\n",
    "\n",
    "X_train, X_test, y_train, y_test = train_test_split(X, y, test_size=0.2)\n",
    "\n",
    "model = LinearRegression()\n",
    "\n",
    "model.fit(X_train, y_train)\n",
    "\n",
    "y_pred = model.predict(X_test)\n",
    "\n",
    "# Print the model's coefficients and intercept\n",
    "print(model.coef_)\n",
    "print(model.intercept_)\n"
   ]
  },
  {
   "cell_type": "markdown",
   "id": "562d0b7d",
   "metadata": {},
   "source": [
    "this next lines are the regression on the dataframe before deleting outliers"
   ]
  },
  {
   "cell_type": "code",
   "execution_count": 113,
   "id": "2ae78b8f",
   "metadata": {},
   "outputs": [
    {
     "name": "stdout",
     "output_type": "stream",
     "text": [
      "[0.8991671]\n",
      "0.4785788342406603\n"
     ]
    }
   ],
   "source": [
    "\n",
    "from sklearn.linear_model import LinearRegression\n",
    "from sklearn.model_selection import train_test_split\n",
    "\n",
    "\n",
    "\n",
    "\n",
    "y = df2['stars']\n",
    "\n",
    "X = df2[['nlp-grade']]\n",
    "\n",
    "X_train, X_test, y_train, y_test = train_test_split(X, y, test_size=0.2)\n",
    "\n",
    "model = LinearRegression()\n",
    "\n",
    "model.fit(X_train, y_train)\n",
    "\n",
    "y_pred = model.predict(X_test)\n",
    "\n",
    "print(model.coef_)\n",
    "print(model.intercept_)\n"
   ]
  },
  {
   "cell_type": "markdown",
   "id": "279b0bcf",
   "metadata": {},
   "source": [
    "###### bonus:this is the difference between the stars avg score to the nlp avg score"
   ]
  },
  {
   "cell_type": "code",
   "execution_count": 55,
   "id": "ce0aaaaa",
   "metadata": {},
   "outputs": [
    {
     "name": "stdout",
     "output_type": "stream",
     "text": [
      "4.56617204732304\n",
      "4.42725520352917\n"
     ]
    }
   ],
   "source": [
    "print( df['stars'].mean())\n",
    "print( df['nlp-grade'].mean())"
   ]
  },
  {
   "cell_type": "code",
   "execution_count": 57,
   "id": "0f6a7032",
   "metadata": {},
   "outputs": [
    {
     "data": {
      "text/html": [
       "<div>\n",
       "<style scoped>\n",
       "    .dataframe tbody tr th:only-of-type {\n",
       "        vertical-align: middle;\n",
       "    }\n",
       "\n",
       "    .dataframe tbody tr th {\n",
       "        vertical-align: top;\n",
       "    }\n",
       "\n",
       "    .dataframe thead th {\n",
       "        text-align: right;\n",
       "    }\n",
       "</style>\n",
       "<table border=\"1\" class=\"dataframe\">\n",
       "  <thead>\n",
       "    <tr style=\"text-align: right;\">\n",
       "      <th></th>\n",
       "      <th>reviews-title</th>\n",
       "      <th>reviews-text</th>\n",
       "      <th>stars</th>\n",
       "      <th>nlp-grade</th>\n",
       "    </tr>\n",
       "  </thead>\n",
       "  <tbody>\n",
       "    <tr>\n",
       "      <th>4995</th>\n",
       "      <td>Holiday</td>\n",
       "      <td>We visited the Empire State Building at night ...</td>\n",
       "      <td>5.0</td>\n",
       "      <td>4.9376</td>\n",
       "    </tr>\n",
       "    <tr>\n",
       "      <th>6101</th>\n",
       "      <td>Bucket list item</td>\n",
       "      <td>If you only have a single night in New York th...</td>\n",
       "      <td>5.0</td>\n",
       "      <td>4.8520</td>\n",
       "    </tr>\n",
       "    <tr>\n",
       "      <th>6051</th>\n",
       "      <td>First Visit</td>\n",
       "      <td>This was our third trip to Manhattan but our f...</td>\n",
       "      <td>5.0</td>\n",
       "      <td>4.8414</td>\n",
       "    </tr>\n",
       "    <tr>\n",
       "      <th>6087</th>\n",
       "      <td>Much improved experience.</td>\n",
       "      <td>Visited back in 2001 and much has changed. Was...</td>\n",
       "      <td>5.0</td>\n",
       "      <td>4.1148</td>\n",
       "    </tr>\n",
       "    <tr>\n",
       "      <th>6086</th>\n",
       "      <td>Must see</td>\n",
       "      <td>The most famous building in the world. a must ...</td>\n",
       "      <td>5.0</td>\n",
       "      <td>4.7652</td>\n",
       "    </tr>\n",
       "    <tr>\n",
       "      <th>...</th>\n",
       "      <td>...</td>\n",
       "      <td>...</td>\n",
       "      <td>...</td>\n",
       "      <td>...</td>\n",
       "    </tr>\n",
       "    <tr>\n",
       "      <th>2041</th>\n",
       "      <td>Corporate Greed</td>\n",
       "      <td>With a global pandemic &amp; no flights, they stil...</td>\n",
       "      <td>1.0</td>\n",
       "      <td>1.9466</td>\n",
       "    </tr>\n",
       "    <tr>\n",
       "      <th>3607</th>\n",
       "      <td>Engaged and first time visit</td>\n",
       "      <td>I had an amazing time at the Empire State Buil...</td>\n",
       "      <td>1.0</td>\n",
       "      <td>4.9532</td>\n",
       "    </tr>\n",
       "    <tr>\n",
       "      <th>3601</th>\n",
       "      <td>Dec 19</td>\n",
       "      <td>Over priced to say the least. The cost for a f...</td>\n",
       "      <td>1.0</td>\n",
       "      <td>4.4134</td>\n",
       "    </tr>\n",
       "    <tr>\n",
       "      <th>7013</th>\n",
       "      <td>Vsitor blocking half of the access.</td>\n",
       "      <td>almost outrageous... We paid full rate for the...</td>\n",
       "      <td>1.0</td>\n",
       "      <td>3.8526</td>\n",
       "    </tr>\n",
       "    <tr>\n",
       "      <th>2861</th>\n",
       "      <td>Disorganized Chaos Bordering Dangerous</td>\n",
       "      <td>Paid for the tickets to get to the 102nd floor...</td>\n",
       "      <td>1.0</td>\n",
       "      <td>1.8264</td>\n",
       "    </tr>\n",
       "  </tbody>\n",
       "</table>\n",
       "<p>9974 rows × 4 columns</p>\n",
       "</div>"
      ],
      "text/plain": [
       "                               reviews-title  \\\n",
       "4995                                 Holiday   \n",
       "6101                        Bucket list item   \n",
       "6051                             First Visit   \n",
       "6087               Much improved experience.   \n",
       "6086                                Must see   \n",
       "...                                      ...   \n",
       "2041                         Corporate Greed   \n",
       "3607            Engaged and first time visit   \n",
       "3601                                  Dec 19   \n",
       "7013     Vsitor blocking half of the access.   \n",
       "2861  Disorganized Chaos Bordering Dangerous   \n",
       "\n",
       "                                           reviews-text  stars  nlp-grade  \n",
       "4995  We visited the Empire State Building at night ...    5.0     4.9376  \n",
       "6101  If you only have a single night in New York th...    5.0     4.8520  \n",
       "6051  This was our third trip to Manhattan but our f...    5.0     4.8414  \n",
       "6087  Visited back in 2001 and much has changed. Was...    5.0     4.1148  \n",
       "6086  The most famous building in the world. a must ...    5.0     4.7652  \n",
       "...                                                 ...    ...        ...  \n",
       "2041  With a global pandemic & no flights, they stil...    1.0     1.9466  \n",
       "3607  I had an amazing time at the Empire State Buil...    1.0     4.9532  \n",
       "3601  Over priced to say the least. The cost for a f...    1.0     4.4134  \n",
       "7013  almost outrageous... We paid full rate for the...    1.0     3.8526  \n",
       "2861  Paid for the tickets to get to the 102nd floor...    1.0     1.8264  \n",
       "\n",
       "[9974 rows x 4 columns]"
      ]
     },
     "execution_count": 57,
     "metadata": {},
     "output_type": "execute_result"
    }
   ],
   "source": [
    "df"
   ]
  },
  {
   "cell_type": "markdown",
   "id": "97c5c1ef",
   "metadata": {},
   "source": [
    "# מסקנות"
   ]
  },
  {
   "cell_type": "markdown",
   "id": "51079627",
   "metadata": {},
   "source": [
    "###### מהפרוייקט אפשר ללמוד כמה דברים,דבר ראשון הוא שאפשר לבדוק את הניקוד של מקום מסויים רק מהתגובות ולא רק מהכוכבים שמשתמשים נותנים,דבר נוסף הוא שאנשים יותר ביקורתיים באינטרנט לפי הגרפים אפשר לראות שאנשים שנתנו כוכב אחד התגובה הממוצעת קיבלה ציון גבוה (3.0) ודבר אחרון שאפשר לראות זה שאנשים לפעמים סתם מנקדים את הכוכבים לדוגמה בשורה 3607 משתמש סיפר שזאת היתה הפעם הראשונה שלו והוא הציע שם נישואים והיה חוויה מדהימה ועדיין הוא נתן כוכב אחד (כנראה בטעות)"
   ]
  },
  {
   "cell_type": "code",
   "execution_count": null,
   "id": "b5162143",
   "metadata": {},
   "outputs": [],
   "source": []
  }
 ],
 "metadata": {
  "kernelspec": {
   "display_name": "Python 3 (ipykernel)",
   "language": "python",
   "name": "python3"
  },
  "language_info": {
   "codemirror_mode": {
    "name": "ipython",
    "version": 3
   },
   "file_extension": ".py",
   "mimetype": "text/x-python",
   "name": "python",
   "nbconvert_exporter": "python",
   "pygments_lexer": "ipython3",
   "version": "3.9.13"
  }
 },
 "nbformat": 4,
 "nbformat_minor": 5
}
